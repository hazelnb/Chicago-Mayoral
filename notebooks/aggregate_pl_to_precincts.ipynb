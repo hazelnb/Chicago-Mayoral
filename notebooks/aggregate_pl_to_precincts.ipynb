{
 "cells": [
  {
   "cell_type": "code",
   "execution_count": 2,
   "metadata": {},
   "outputs": [],
   "source": [
    "import maup\n",
    "import geopandas as gpd\n",
    "import pandas as pd\n",
    "import numpy as np\n",
    "import json\n",
    "import matplotlib.pyplot as plt"
   ]
  },
  {
   "cell_type": "code",
   "execution_count": 3,
   "metadata": {},
   "outputs": [],
   "source": [
    "cook_cnty_blocks = gpd.GeoDataFrame.from_file(\"../data/tl_2010_17031_tabblock10/tl_2010_17031_tabblock10.shp\")\n",
    "blk_data = pd.read_csv(\"../data/10decPL_chicago_blocks_summary.csv\")\n",
    "blk_geoids = list(map(lambda geoid: geoid.split(\"US\")[1], blk_data[\"GEO_ID\"]))\n",
    "blk_data[\"GEO_ID\"] = blk_geoids"
   ]
  },
  {
   "cell_type": "code",
   "execution_count": 31,
   "metadata": {},
   "outputs": [],
   "source": [
    "blk_gdf = cook_cnty_blocks[cook_cnty_blocks[\"GEOID10\"].isin(blk_data[\"GEO_ID\"])].to_crs(\"EPSG:3435\")\n",
    "prct_gdf = gpd.GeoDataFrame.from_file(\"../data/precincts_shapefile/PRECINCTS_2012.shp\")"
   ]
  },
  {
   "cell_type": "code",
   "execution_count": 5,
   "metadata": {},
   "outputs": [
    {
     "name": "stderr",
     "output_type": "stream",
     "text": [
      "/Users/hazelnb/opt/anaconda3/lib/python3.9/site-packages/geopandas/tools/clip.py:66: FutureWarning: In a future version, `df.iloc[:, i] = newvals` will attempt to set the values inplace instead of always setting a new array. To retain the old behavior, use either `df[df.columns[i]] = newvals` or, if columns are non-unique, `df.isetitem(i, newvals)`\n",
      "  clipped.loc[\n"
     ]
    }
   ],
   "source": [
    "clipped_blks = gpd.clip(blk_gdf, prct_gdf)"
   ]
  },
  {
   "cell_type": "code",
   "execution_count": 43,
   "metadata": {},
   "outputs": [
    {
     "name": "stderr",
     "output_type": "stream",
     "text": [
      "/Users/hazelnb/opt/anaconda3/lib/python3.9/site-packages/maup/indexed_geometries.py:17: ShapelyDeprecationWarning: STRtree will be changed in 2.0.0 and will not be compatible with versions < 2.\n",
      "  self.spatial_index = STRtree(self.geometries)\n",
      "/Users/hazelnb/opt/anaconda3/lib/python3.9/site-packages/maup/indexed_geometries.py:17: ShapelyDeprecationWarning: STRtree will be changed in 2.0.0 and will not be compatible with versions < 2.\n",
      "  self.spatial_index = STRtree(self.geometries)\n"
     ]
    }
   ],
   "source": [
    "clipped_blks['prcnt_assignment'] = maup.assign(clipped_blks, prct_gdf)"
   ]
  },
  {
   "cell_type": "code",
   "execution_count": 44,
   "metadata": {},
   "outputs": [],
   "source": [
    "combined_blk_data = pd.merge(clipped_blks, blk_data, how=\"inner\", left_on=\"GEOID10\", right_on=\"GEO_ID\")\n",
    "# combined_blk_data.to_file(\"test3.shp\")"
   ]
  },
  {
   "cell_type": "code",
   "execution_count": 52,
   "metadata": {},
   "outputs": [
    {
     "data": {
      "text/plain": [
       "14"
      ]
     },
     "execution_count": 52,
     "metadata": {},
     "output_type": "execute_result"
    }
   ],
   "source": [
    "vap_cols = list(filter(lambda col: \"_vap\" in col, combined_blk_data.columns))\n",
    "len(list(combined_blk_data.groupby(combined_blk_data['precinct']))[4][1][\"GEOID10\"])"
   ]
  },
  {
   "cell_type": "code",
   "execution_count": 46,
   "metadata": {},
   "outputs": [],
   "source": [
    "prct_gdf[vap_cols] = combined_blk_data[vap_cols].groupby(combined_blk_data['prcnt_assignment']).sum()"
   ]
  },
  {
   "cell_type": "code",
   "execution_count": 56,
   "metadata": {},
   "outputs": [
    {
     "name": "stdout",
     "output_type": "stream",
     "text": [
      "11385.0\n"
     ]
    }
   ],
   "source": [
    "print(max(prct_gdf[\"tot_vap\"]))"
   ]
  },
  {
   "cell_type": "code",
   "execution_count": null,
   "metadata": {},
   "outputs": [],
   "source": []
  }
 ],
 "metadata": {
  "kernelspec": {
   "display_name": "base",
   "language": "python",
   "name": "python3"
  },
  "language_info": {
   "codemirror_mode": {
    "name": "ipython",
    "version": 3
   },
   "file_extension": ".py",
   "mimetype": "text/x-python",
   "name": "python",
   "nbconvert_exporter": "python",
   "pygments_lexer": "ipython3",
   "version": "3.9.7"
  },
  "orig_nbformat": 4
 },
 "nbformat": 4,
 "nbformat_minor": 2
}
