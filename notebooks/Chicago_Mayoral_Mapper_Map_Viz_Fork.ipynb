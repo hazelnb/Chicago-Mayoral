{
  "cells": [
    {
      "cell_type": "markdown",
      "metadata": {
        "id": "9XDIGns3Okut"
      },
      "source": [
        "Kepler Mapper is one of a number of libraries that performs topological data analytic functions. This library is based on the mapper algorithm. (More about the algorithm can be read here: https://research.math.osu.edu/tgda/mapperPBG.pdf)\n",
        "\n",
        "Mapper is used to determine how multiple independent variables relate to a single dependent variable. Here, we'll see how we can look at various data points for Chicago voters, and see how they map to the outcome of the 2015 Mayoral Election. "
      ]
    },
    {
      "cell_type": "code",
      "execution_count": 11,
      "metadata": {
        "id": "WAhp33zGM3at"
      },
      "outputs": [],
      "source": [
        "import kmapper as km\n",
        "import numpy as np\n",
        "import matplotlib.pyplot as plt\n",
        "import sys, os\n",
        "from kmapper.plotlyviz import plotlyviz \n",
        "import networkx as nx\n",
        "from sklearn import preprocessing, datasets \n",
        "from numpy import genfromtxt\n",
        "import pandas as pd\n",
        "import geopandas as gpd\n",
        "from statistics import mode\n",
        "import folium\n",
        "import mapclassify\n",
        "import IPython\n",
        "import re"
      ]
    },
    {
      "cell_type": "markdown",
      "metadata": {
        "id": "r_V90gQ1PfQB"
      },
      "source": [
        "First, we read in the Chicago data, and do a little data exploration. "
      ]
    },
    {
      "cell_type": "code",
      "execution_count": 12,
      "metadata": {
        "colab": {
          "background_save": true,
          "base_uri": "https://localhost:8080/",
          "height": 39
        },
        "id": "dJ8M08gnPjq-",
        "outputId": "5ebdf455-0d57-4843-aa93-b7e9172b9c03"
      },
      "outputs": [],
      "source": [
        "chicago_mayoral = pd.read_csv(\"../data/Chicago_mayoral.csv\")"
      ]
    },
    {
      "cell_type": "code",
      "execution_count": 13,
      "metadata": {
        "id": "LMPjqXF0s59Y"
      },
      "outputs": [
        {
          "name": "stdout",
          "output_type": "stream",
          "text": [
            "full_text\n",
            "precinct\n",
            "shape_area\n",
            "shape_len\n",
            "ward\n",
            "TOTPOP\n",
            "NH_WHITE\n",
            "NH_BLACK\n",
            "NH_AMIN\n",
            "NH_ASIAN\n",
            "NH_NHPI\n",
            "NH_OTHER\n",
            "NH_2MORE\n",
            "HISP\n",
            "H_WHITE\n",
            "H_BLACK\n",
            "H_AMIN\n",
            "H_ASIAN\n",
            "H_NHPI\n",
            "H_OTHER\n",
            "H_2MORE\n",
            "VAP\n",
            "HVAP\n",
            "WVAP\n",
            "BVAP\n",
            "AMINVAP\n",
            "ASIANVAP\n",
            "NHPIVAP\n",
            "OTHERVAP\n",
            "2MOREVAP\n",
            "TOTHH\n",
            "LESS_10K\n",
            "10K_15K\n",
            "15K_20K\n",
            "20K_25K\n",
            "25K_30K\n",
            "30K_35K\n",
            "35K_40K\n",
            "40K_45K\n",
            "45K_50K\n",
            "50K_60K\n",
            "60K_75K\n",
            "75K_100K\n",
            "100K_125K\n",
            "125K_150K\n",
            "150K_200K\n",
            "200K_MORE\n",
            "JOINID\n",
            "TOTV_19\n",
            "JOYCE_19\n",
            "VALLAS_19\n",
            "WILSON_19\n",
            "PRECK_19\n",
            "DALEY_19\n",
            "MCCART_19\n",
            "CHICO_19\n",
            "MEND_19\n",
            "ENYIA_19\n",
            "FORD_19\n",
            "SALGRIF_19\n",
            "LHGTFT_19\n",
            "FIORETTI_1\n",
            "KOZLAR_19\n",
            "TOTV_RO15\n",
            "RO_E15\n",
            "RO_G15\n",
            "TOTV_G15\n",
            "EMAN_G15\n",
            "WILS_G15\n",
            "FIORET_G15\n",
            "GARCIA_G15\n",
            "WALLS_G15\n",
            "TOTPOP19\n",
            "NH_WHITE19\n",
            "NH_BLACK19\n",
            "NH_AMIN19\n",
            "NH_ASIAN19\n",
            "NH_NHPI19\n",
            "NH_OTHER19\n",
            "NH_2MORE19\n",
            "HISP19\n",
            "H_WHITE19\n",
            "H_BLACK19\n",
            "H_AMIN19\n",
            "H_ASIAN19\n",
            "H_NHPI19\n",
            "H_OTHER19\n",
            "H_2MORE19\n",
            "Ward_Prec\n",
            "MAY19LL\n",
            "MAY19TP\n",
            "COUNTY\n",
            "HVAP_pct\n",
            "WVAP_pct\n",
            "BVAP_pct\n",
            "AMINVAP_pct\n",
            "ASIANVAP_pct\n",
            "NHPIVAP_pct\n",
            "OTHERVAP_pct\n",
            "2MOREVAP_pct\n",
            "LESS_10K_pct\n",
            "10K_15K_pct\n",
            "15K_20K_pct\n",
            "20K_25K_pct\n",
            "25K_30K_pct\n",
            "30K_35K_pct\n",
            "35K_40K_pct\n",
            "40K_45K_pct\n",
            "45K_50K_pct\n",
            "50K_60K_pct\n",
            "60K_75K_pct\n",
            "75K_100K_pct\n",
            "100K_125K_pct\n",
            "125K_150K_pct\n",
            "150K_200K_pct\n",
            "200K_MORE_pct\n",
            "GARCIA_G15_pct\n",
            "EMAN_G15_pct\n"
          ]
        },
        {
          "data": {
            "text/html": [
              "<div>\n",
              "<style scoped>\n",
              "    .dataframe tbody tr th:only-of-type {\n",
              "        vertical-align: middle;\n",
              "    }\n",
              "\n",
              "    .dataframe tbody tr th {\n",
              "        vertical-align: top;\n",
              "    }\n",
              "\n",
              "    .dataframe thead th {\n",
              "        text-align: right;\n",
              "    }\n",
              "</style>\n",
              "<table border=\"1\" class=\"dataframe\">\n",
              "  <thead>\n",
              "    <tr style=\"text-align: right;\">\n",
              "      <th></th>\n",
              "      <th>full_text</th>\n",
              "      <th>precinct</th>\n",
              "      <th>shape_area</th>\n",
              "      <th>shape_len</th>\n",
              "      <th>ward</th>\n",
              "      <th>TOTPOP</th>\n",
              "      <th>NH_WHITE</th>\n",
              "      <th>NH_BLACK</th>\n",
              "      <th>NH_AMIN</th>\n",
              "      <th>NH_ASIAN</th>\n",
              "      <th>...</th>\n",
              "      <th>45K_50K_pct</th>\n",
              "      <th>50K_60K_pct</th>\n",
              "      <th>60K_75K_pct</th>\n",
              "      <th>75K_100K_pct</th>\n",
              "      <th>100K_125K_pct</th>\n",
              "      <th>125K_150K_pct</th>\n",
              "      <th>150K_200K_pct</th>\n",
              "      <th>200K_MORE_pct</th>\n",
              "      <th>GARCIA_G15_pct</th>\n",
              "      <th>EMAN_G15_pct</th>\n",
              "    </tr>\n",
              "  </thead>\n",
              "  <tbody>\n",
              "    <tr>\n",
              "      <th>0</th>\n",
              "      <td>41027</td>\n",
              "      <td>27.0</td>\n",
              "      <td>3.090762e+08</td>\n",
              "      <td>139749.430317</td>\n",
              "      <td>41.0</td>\n",
              "      <td>2197.199822</td>\n",
              "      <td>1842.147074</td>\n",
              "      <td>37.523810</td>\n",
              "      <td>0.0</td>\n",
              "      <td>78.768500</td>\n",
              "      <td>...</td>\n",
              "      <td>3.088277e-02</td>\n",
              "      <td>0.071385</td>\n",
              "      <td>0.155162</td>\n",
              "      <td>0.116651</td>\n",
              "      <td>0.063415</td>\n",
              "      <td>0.041462</td>\n",
              "      <td>1.938787e-02</td>\n",
              "      <td>0.020865</td>\n",
              "      <td>0.467532</td>\n",
              "      <td>0.389610</td>\n",
              "    </tr>\n",
              "    <tr>\n",
              "      <th>1</th>\n",
              "      <td>5025</td>\n",
              "      <td>25.0</td>\n",
              "      <td>2.569525e+07</td>\n",
              "      <td>35894.522176</td>\n",
              "      <td>5.0</td>\n",
              "      <td>1179.000035</td>\n",
              "      <td>40.000002</td>\n",
              "      <td>1063.000032</td>\n",
              "      <td>2.0</td>\n",
              "      <td>3.000000</td>\n",
              "      <td>...</td>\n",
              "      <td>1.741558e-02</td>\n",
              "      <td>0.107800</td>\n",
              "      <td>0.075687</td>\n",
              "      <td>0.066644</td>\n",
              "      <td>0.055029</td>\n",
              "      <td>0.022873</td>\n",
              "      <td>3.010790e-02</td>\n",
              "      <td>0.077477</td>\n",
              "      <td>0.171779</td>\n",
              "      <td>0.435583</td>\n",
              "    </tr>\n",
              "    <tr>\n",
              "      <th>2</th>\n",
              "      <td>48041</td>\n",
              "      <td>41.0</td>\n",
              "      <td>1.248113e+06</td>\n",
              "      <td>4917.914119</td>\n",
              "      <td>48.0</td>\n",
              "      <td>2077.999953</td>\n",
              "      <td>789.999985</td>\n",
              "      <td>584.999994</td>\n",
              "      <td>4.0</td>\n",
              "      <td>190.999993</td>\n",
              "      <td>...</td>\n",
              "      <td>2.343280e-02</td>\n",
              "      <td>0.071516</td>\n",
              "      <td>0.045449</td>\n",
              "      <td>0.014157</td>\n",
              "      <td>0.033428</td>\n",
              "      <td>0.011520</td>\n",
              "      <td>2.857899e-02</td>\n",
              "      <td>0.025868</td>\n",
              "      <td>0.311189</td>\n",
              "      <td>0.377622</td>\n",
              "    </tr>\n",
              "    <tr>\n",
              "      <th>3</th>\n",
              "      <td>3024</td>\n",
              "      <td>24.0</td>\n",
              "      <td>5.716768e+06</td>\n",
              "      <td>12629.240176</td>\n",
              "      <td>3.0</td>\n",
              "      <td>1677.000001</td>\n",
              "      <td>17.000000</td>\n",
              "      <td>1595.000001</td>\n",
              "      <td>2.0</td>\n",
              "      <td>3.000000</td>\n",
              "      <td>...</td>\n",
              "      <td>2.091312e-02</td>\n",
              "      <td>0.048259</td>\n",
              "      <td>0.054365</td>\n",
              "      <td>0.024377</td>\n",
              "      <td>0.041899</td>\n",
              "      <td>0.011571</td>\n",
              "      <td>4.505476e-10</td>\n",
              "      <td>0.001364</td>\n",
              "      <td>0.351111</td>\n",
              "      <td>0.475556</td>\n",
              "    </tr>\n",
              "    <tr>\n",
              "      <th>4</th>\n",
              "      <td>2045</td>\n",
              "      <td>45.0</td>\n",
              "      <td>4.762711e+05</td>\n",
              "      <td>2986.071131</td>\n",
              "      <td>2.0</td>\n",
              "      <td>1448.999997</td>\n",
              "      <td>830.999998</td>\n",
              "      <td>353.000000</td>\n",
              "      <td>4.0</td>\n",
              "      <td>172.999999</td>\n",
              "      <td>...</td>\n",
              "      <td>7.938806e-10</td>\n",
              "      <td>0.027556</td>\n",
              "      <td>0.063741</td>\n",
              "      <td>0.054931</td>\n",
              "      <td>0.123686</td>\n",
              "      <td>0.057728</td>\n",
              "      <td>4.960015e-02</td>\n",
              "      <td>0.029612</td>\n",
              "      <td>0.619718</td>\n",
              "      <td>0.262911</td>\n",
              "    </tr>\n",
              "  </tbody>\n",
              "</table>\n",
              "<p>5 rows × 118 columns</p>\n",
              "</div>"
            ],
            "text/plain": [
              "   full_text  precinct    shape_area      shape_len  ward       TOTPOP  \\\n",
              "0      41027      27.0  3.090762e+08  139749.430317  41.0  2197.199822   \n",
              "1       5025      25.0  2.569525e+07   35894.522176   5.0  1179.000035   \n",
              "2      48041      41.0  1.248113e+06    4917.914119  48.0  2077.999953   \n",
              "3       3024      24.0  5.716768e+06   12629.240176   3.0  1677.000001   \n",
              "4       2045      45.0  4.762711e+05    2986.071131   2.0  1448.999997   \n",
              "\n",
              "      NH_WHITE     NH_BLACK  NH_AMIN    NH_ASIAN  ...   45K_50K_pct  \\\n",
              "0  1842.147074    37.523810      0.0   78.768500  ...  3.088277e-02   \n",
              "1    40.000002  1063.000032      2.0    3.000000  ...  1.741558e-02   \n",
              "2   789.999985   584.999994      4.0  190.999993  ...  2.343280e-02   \n",
              "3    17.000000  1595.000001      2.0    3.000000  ...  2.091312e-02   \n",
              "4   830.999998   353.000000      4.0  172.999999  ...  7.938806e-10   \n",
              "\n",
              "   50K_60K_pct  60K_75K_pct  75K_100K_pct  100K_125K_pct  125K_150K_pct  \\\n",
              "0     0.071385     0.155162      0.116651       0.063415       0.041462   \n",
              "1     0.107800     0.075687      0.066644       0.055029       0.022873   \n",
              "2     0.071516     0.045449      0.014157       0.033428       0.011520   \n",
              "3     0.048259     0.054365      0.024377       0.041899       0.011571   \n",
              "4     0.027556     0.063741      0.054931       0.123686       0.057728   \n",
              "\n",
              "   150K_200K_pct  200K_MORE_pct  GARCIA_G15_pct  EMAN_G15_pct  \n",
              "0   1.938787e-02       0.020865        0.467532      0.389610  \n",
              "1   3.010790e-02       0.077477        0.171779      0.435583  \n",
              "2   2.857899e-02       0.025868        0.311189      0.377622  \n",
              "3   4.505476e-10       0.001364        0.351111      0.475556  \n",
              "4   4.960015e-02       0.029612        0.619718      0.262911  \n",
              "\n",
              "[5 rows x 118 columns]"
            ]
          },
          "execution_count": 13,
          "metadata": {},
          "output_type": "execute_result"
        }
      ],
      "source": [
        "for col in chicago_mayoral.columns: print(col)\n",
        "chicago_mayoral.head()"
      ]
    },
    {
      "cell_type": "markdown",
      "metadata": {
        "id": "jQR4liEHvlLu"
      },
      "source": [
        "The file has columns for the percentage of each racial group's voting age population (VAP) in each precinct, and columns for the number of households are in each salary range in each precinct. We want to extract some of those columns to choose our input data for mapper. \n",
        "\n",
        "Note that, we want percents as opposed to counts, because counts without context don't give us a lot of info. \n",
        "\n",
        "If we know Rahm Emanuel had 150 votes in precinct 1 and there were 150 white voters, It'll make a huge difference whether the total precinct population was close to 150 or something much larger. "
      ]
    },
    {
      "cell_type": "code",
      "execution_count": 14,
      "metadata": {
        "id": "xOBft67aPMhX"
      },
      "outputs": [],
      "source": [
        "vap_cols = [col for col in chicago_mayoral if \"VAP_pct\" in col]"
      ]
    },
    {
      "cell_type": "code",
      "execution_count": 15,
      "metadata": {
        "id": "z7W4kDAxbyeK"
      },
      "outputs": [],
      "source": [
        "salary_cols = [col for col in chicago_mayoral.columns if \"K_pct\" in col or col == \"200K_MORE_pct\"]"
      ]
    },
    {
      "cell_type": "markdown",
      "metadata": {
        "id": "aJPA5dUwwG29"
      },
      "source": [
        "Now, we're going to create 2 dataframes to run through the entire mapper process. \n",
        "\n",
        "One dataframe will map demographic shares in each precinct to the percent of support for Chuy Garcia. The other will map household salary shares to the precinct level support for Garcia. "
      ]
    },
    {
      "cell_type": "code",
      "execution_count": 16,
      "metadata": {
        "id": "K282EnVIOhKQ"
      },
      "outputs": [],
      "source": [
        "chicago_dem_df = chicago_mayoral[[\"BVAP_pct\", \"HVAP_pct\", \"WVAP_pct\", \"GARCIA_G15_pct\"]]\n",
        "chicago_salary_df = chicago_mayoral[salary_cols + [\"GARCIA_G15_pct\"]]"
      ]
    },
    {
      "cell_type": "code",
      "execution_count": 17,
      "metadata": {
        "id": "x4zGS_4YeJU6"
      },
      "outputs": [
        {
          "data": {
            "text/html": [
              "<div>\n",
              "<style scoped>\n",
              "    .dataframe tbody tr th:only-of-type {\n",
              "        vertical-align: middle;\n",
              "    }\n",
              "\n",
              "    .dataframe tbody tr th {\n",
              "        vertical-align: top;\n",
              "    }\n",
              "\n",
              "    .dataframe thead th {\n",
              "        text-align: right;\n",
              "    }\n",
              "</style>\n",
              "<table border=\"1\" class=\"dataframe\">\n",
              "  <thead>\n",
              "    <tr style=\"text-align: right;\">\n",
              "      <th></th>\n",
              "      <th>LESS_10K_pct</th>\n",
              "      <th>10K_15K_pct</th>\n",
              "      <th>15K_20K_pct</th>\n",
              "      <th>20K_25K_pct</th>\n",
              "      <th>25K_30K_pct</th>\n",
              "      <th>30K_35K_pct</th>\n",
              "      <th>35K_40K_pct</th>\n",
              "      <th>40K_45K_pct</th>\n",
              "      <th>45K_50K_pct</th>\n",
              "      <th>50K_60K_pct</th>\n",
              "      <th>60K_75K_pct</th>\n",
              "      <th>75K_100K_pct</th>\n",
              "      <th>100K_125K_pct</th>\n",
              "      <th>125K_150K_pct</th>\n",
              "      <th>150K_200K_pct</th>\n",
              "      <th>200K_MORE_pct</th>\n",
              "      <th>GARCIA_G15_pct</th>\n",
              "    </tr>\n",
              "  </thead>\n",
              "  <tbody>\n",
              "    <tr>\n",
              "      <th>0</th>\n",
              "      <td>0.054155</td>\n",
              "      <td>0.097632</td>\n",
              "      <td>0.053159</td>\n",
              "      <td>0.073450</td>\n",
              "      <td>6.945268e-02</td>\n",
              "      <td>0.044972</td>\n",
              "      <td>0.028811</td>\n",
              "      <td>0.059156</td>\n",
              "      <td>3.088277e-02</td>\n",
              "      <td>0.071385</td>\n",
              "      <td>0.155162</td>\n",
              "      <td>0.116651</td>\n",
              "      <td>0.063415</td>\n",
              "      <td>0.041462</td>\n",
              "      <td>1.938787e-02</td>\n",
              "      <td>0.020865</td>\n",
              "      <td>0.467532</td>\n",
              "    </tr>\n",
              "    <tr>\n",
              "      <th>1</th>\n",
              "      <td>0.170550</td>\n",
              "      <td>0.097315</td>\n",
              "      <td>0.073075</td>\n",
              "      <td>0.047740</td>\n",
              "      <td>6.911747e-02</td>\n",
              "      <td>0.021744</td>\n",
              "      <td>0.029584</td>\n",
              "      <td>0.037842</td>\n",
              "      <td>1.741558e-02</td>\n",
              "      <td>0.107800</td>\n",
              "      <td>0.075687</td>\n",
              "      <td>0.066644</td>\n",
              "      <td>0.055029</td>\n",
              "      <td>0.022873</td>\n",
              "      <td>3.010790e-02</td>\n",
              "      <td>0.077477</td>\n",
              "      <td>0.171779</td>\n",
              "    </tr>\n",
              "    <tr>\n",
              "      <th>2</th>\n",
              "      <td>0.180925</td>\n",
              "      <td>0.138861</td>\n",
              "      <td>0.102196</td>\n",
              "      <td>0.063180</td>\n",
              "      <td>9.606658e-02</td>\n",
              "      <td>0.064423</td>\n",
              "      <td>0.046237</td>\n",
              "      <td>0.054160</td>\n",
              "      <td>2.343280e-02</td>\n",
              "      <td>0.071516</td>\n",
              "      <td>0.045449</td>\n",
              "      <td>0.014157</td>\n",
              "      <td>0.033428</td>\n",
              "      <td>0.011520</td>\n",
              "      <td>2.857899e-02</td>\n",
              "      <td>0.025868</td>\n",
              "      <td>0.311189</td>\n",
              "    </tr>\n",
              "    <tr>\n",
              "      <th>3</th>\n",
              "      <td>0.272632</td>\n",
              "      <td>0.192903</td>\n",
              "      <td>0.094790</td>\n",
              "      <td>0.112528</td>\n",
              "      <td>1.715004e-02</td>\n",
              "      <td>0.035026</td>\n",
              "      <td>0.042264</td>\n",
              "      <td>0.029960</td>\n",
              "      <td>2.091312e-02</td>\n",
              "      <td>0.048259</td>\n",
              "      <td>0.054365</td>\n",
              "      <td>0.024377</td>\n",
              "      <td>0.041899</td>\n",
              "      <td>0.011571</td>\n",
              "      <td>4.505476e-10</td>\n",
              "      <td>0.001364</td>\n",
              "      <td>0.351111</td>\n",
              "    </tr>\n",
              "    <tr>\n",
              "      <th>4</th>\n",
              "      <td>0.297892</td>\n",
              "      <td>0.166479</td>\n",
              "      <td>0.034874</td>\n",
              "      <td>0.012253</td>\n",
              "      <td>4.635531e-10</td>\n",
              "      <td>0.050721</td>\n",
              "      <td>0.013196</td>\n",
              "      <td>0.017730</td>\n",
              "      <td>7.938806e-10</td>\n",
              "      <td>0.027556</td>\n",
              "      <td>0.063741</td>\n",
              "      <td>0.054931</td>\n",
              "      <td>0.123686</td>\n",
              "      <td>0.057728</td>\n",
              "      <td>4.960015e-02</td>\n",
              "      <td>0.029612</td>\n",
              "      <td>0.619718</td>\n",
              "    </tr>\n",
              "  </tbody>\n",
              "</table>\n",
              "</div>"
            ],
            "text/plain": [
              "   LESS_10K_pct  10K_15K_pct  15K_20K_pct  20K_25K_pct   25K_30K_pct  \\\n",
              "0      0.054155     0.097632     0.053159     0.073450  6.945268e-02   \n",
              "1      0.170550     0.097315     0.073075     0.047740  6.911747e-02   \n",
              "2      0.180925     0.138861     0.102196     0.063180  9.606658e-02   \n",
              "3      0.272632     0.192903     0.094790     0.112528  1.715004e-02   \n",
              "4      0.297892     0.166479     0.034874     0.012253  4.635531e-10   \n",
              "\n",
              "   30K_35K_pct  35K_40K_pct  40K_45K_pct   45K_50K_pct  50K_60K_pct  \\\n",
              "0     0.044972     0.028811     0.059156  3.088277e-02     0.071385   \n",
              "1     0.021744     0.029584     0.037842  1.741558e-02     0.107800   \n",
              "2     0.064423     0.046237     0.054160  2.343280e-02     0.071516   \n",
              "3     0.035026     0.042264     0.029960  2.091312e-02     0.048259   \n",
              "4     0.050721     0.013196     0.017730  7.938806e-10     0.027556   \n",
              "\n",
              "   60K_75K_pct  75K_100K_pct  100K_125K_pct  125K_150K_pct  150K_200K_pct  \\\n",
              "0     0.155162      0.116651       0.063415       0.041462   1.938787e-02   \n",
              "1     0.075687      0.066644       0.055029       0.022873   3.010790e-02   \n",
              "2     0.045449      0.014157       0.033428       0.011520   2.857899e-02   \n",
              "3     0.054365      0.024377       0.041899       0.011571   4.505476e-10   \n",
              "4     0.063741      0.054931       0.123686       0.057728   4.960015e-02   \n",
              "\n",
              "   200K_MORE_pct  GARCIA_G15_pct  \n",
              "0       0.020865        0.467532  \n",
              "1       0.077477        0.171779  \n",
              "2       0.025868        0.311189  \n",
              "3       0.001364        0.351111  \n",
              "4       0.029612        0.619718  "
            ]
          },
          "execution_count": 17,
          "metadata": {},
          "output_type": "execute_result"
        }
      ],
      "source": [
        "chicago_salary_df.head()"
      ]
    },
    {
      "cell_type": "markdown",
      "metadata": {
        "id": "RNVweQkTwZxY"
      },
      "source": [
        "Keplermapper cannot read an input dataframe, but we can easily turn our dataframes into numpy arrays. "
      ]
    },
    {
      "cell_type": "code",
      "execution_count": 18,
      "metadata": {
        "id": "LQ32Sq4cNFbw"
      },
      "outputs": [],
      "source": [
        "chicago_dem_data = np.array(chicago_dem_df)\n",
        "chicago_salary_data = np.array(chicago_salary_df)"
      ]
    },
    {
      "cell_type": "code",
      "execution_count": 19,
      "metadata": {
        "id": "GOruyQH3NH9_"
      },
      "outputs": [
        {
          "data": {
            "text/plain": [
              "(2069, 4)"
            ]
          },
          "execution_count": 19,
          "metadata": {},
          "output_type": "execute_result"
        }
      ],
      "source": [
        "chicago_dem_data.shape"
      ]
    },
    {
      "cell_type": "code",
      "execution_count": 20,
      "metadata": {
        "id": "yYeYg9uYdReK"
      },
      "outputs": [
        {
          "data": {
            "text/plain": [
              "(2069, 17)"
            ]
          },
          "execution_count": 20,
          "metadata": {},
          "output_type": "execute_result"
        }
      ],
      "source": [
        "chicago_salary_data.shape"
      ]
    },
    {
      "cell_type": "markdown",
      "metadata": {
        "id": "es4CoJxQwkrr"
      },
      "source": [
        "Now, we want to choose the columns number to project our data to. Here, the data is projected to the precinct level support for Chuy Garcia, so we want to get the index of that column out of the dataframe. "
      ]
    },
    {
      "cell_type": "code",
      "execution_count": 21,
      "metadata": {
        "id": "wmrPes-OPxqz"
      },
      "outputs": [],
      "source": [
        "dem_col_num = chicago_dem_df.columns.get_loc(\"GARCIA_G15_pct\")\n",
        "salary_col_num = chicago_salary_df.columns.get_loc(\"GARCIA_G15_pct\")"
      ]
    },
    {
      "cell_type": "markdown",
      "metadata": {
        "id": "4spzg9cPPylY"
      },
      "source": [
        "So, we want to take our variable of interest (the election outcome), and fit a mapper object to this data. In order to use mapper, we have to turn our dataframe into a numpy array. \n",
        "\n",
        "Then we choose the column number from the original data that we're interested in mapping to. Here, we're going to look at the voting outcomes for Rahm Emanuel, and see how that relates to race in a precinct.\n",
        "\n",
        "Here we call fit transform to actually do the projection. We are projecting to a specific column of the input dataset, but other values that could be passed to projection are \"mean\" and \"sum\" which would take the mean or the sum of each of the values for each precinct in the input data. "
      ]
    },
    {
      "cell_type": "code",
      "execution_count": 22,
      "metadata": {
        "id": "e8RKLvveNNoT"
      },
      "outputs": [
        {
          "name": "stdout",
          "output_type": "stream",
          "text": [
            "KeplerMapper(verbose=1)\n",
            "..Composing projection pipeline of length 1:\n",
            "\tProjections: [3]\n",
            "\tDistance matrices: False\n",
            "\tScalers: None\n",
            "..Projecting on data shaped (2069, 4)\n",
            "\n",
            "..Projecting data using: [3]\n",
            "KeplerMapper(verbose=1)\n",
            "..Composing projection pipeline of length 1:\n",
            "\tProjections: [16]\n",
            "\tDistance matrices: False\n",
            "\tScalers: None\n",
            "..Projecting on data shaped (2069, 17)\n",
            "\n",
            "..Projecting data using: [16]\n"
          ]
        }
      ],
      "source": [
        "chicago_dem_mapper = km.KeplerMapper(verbose=1)\n",
        "chicago_dem_projected = chicago_dem_mapper.fit_transform(chicago_dem_data, projection = [dem_col_num], scaler=None)\n",
        "\n",
        "chicago_salary_mapper = km.KeplerMapper(verbose=1)\n",
        "chicago_salary_projected = chicago_salary_mapper.fit_transform(chicago_salary_data, projection = [salary_col_num], scaler=None)\n"
      ]
    },
    {
      "cell_type": "code",
      "execution_count": 23,
      "metadata": {
        "id": "uQnnC1tkwyYP"
      },
      "outputs": [
        {
          "data": {
            "text/plain": [
              "(2069, 1)"
            ]
          },
          "execution_count": 23,
          "metadata": {},
          "output_type": "execute_result"
        }
      ],
      "source": [
        "chicago_dem_projected.shape"
      ]
    },
    {
      "cell_type": "markdown",
      "metadata": {
        "id": "WHjuTkAlxoFx"
      },
      "source": [
        "As I explained a bit before, once the data is in a projected space, the next part of the Mapper algorithm involves covering that space with n dimensional hypercubes (where n is the dimension of the input data). The hypercubes will have a user-specified percent of overlap with each other. \n",
        "\n",
        "You can play around with choosing the percents, but if you have a large percent of overlap, more of your data will end up in multiple clusters, and the clusters themselves will be bigger. \n",
        "\n",
        "The number of cubes can also be interesting to play with. If you don't have enough cubes, the clusters you end up with may not be very useful as things that aren't as similar will get grouped together. With too many cubes, you could end up with very small clusters that don't have a lot of overlap. \n"
      ]
    },
    {
      "cell_type": "code",
      "execution_count": 24,
      "metadata": {
        "id": "XK9epIVmNZVd"
      },
      "outputs": [],
      "source": [
        "n_cubes = 40\n",
        "p_overlap = .2"
      ]
    },
    {
      "cell_type": "code",
      "execution_count": 25,
      "metadata": {
        "id": "e3xaQ0tuNYwu"
      },
      "outputs": [
        {
          "name": "stdout",
          "output_type": "stream",
          "text": [
            "Mapping on data shaped (2069, 4) using lens shaped (2069, 1)\n",
            "\n",
            "Creating 40 hypercubes.\n",
            "\n",
            "Created 46 edges and 54 nodes in 0:00:00.037566.\n",
            "Mapping on data shaped (2069, 17) using lens shaped (2069, 1)\n",
            "\n",
            "Creating 40 hypercubes.\n",
            "\n",
            "Created 35 edges and 39 nodes in 0:00:00.027372.\n"
          ]
        }
      ],
      "source": [
        "chicago_dem_graph = chicago_dem_mapper.map(chicago_dem_projected, chicago_dem_data, cover = km.Cover(n_cubes=n_cubes, perc_overlap=p_overlap))\n",
        "chicago_salary_graph = chicago_salary_mapper.map(chicago_salary_projected, chicago_salary_data, cover = km.Cover(n_cubes=n_cubes, perc_overlap=p_overlap))"
      ]
    },
    {
      "cell_type": "markdown",
      "metadata": {
        "id": "CkSeGVMXykYe"
      },
      "source": [
        "Now we can use the Kepler Mapper visualization tool to see what our graph looks like. \n",
        "\n",
        "This will output to an html file that you can download, open in your browser, and use to interact with the data. \n"
      ]
    },
    {
      "cell_type": "code",
      "execution_count": 39,
      "metadata": {
        "id": "XGCpKelvNWoc"
      },
      "outputs": [],
      "source": [
        "%%capture\n",
        "chicago_dem_mapper.visualize(chicago_dem_graph, path_html = \"chicago_demographics_garcia.html\",\n",
        "                    title=\"Demographic Data for Chicago\", color_values=chicago_dem_data[:,2], color_function_name='WVAP_pct', X = chicago_dem_data, X_names = [\"BVAP_pct\", \"HVAP_pct\", \"WVAP_pct\", \"GARCIA_G15_pct\"])"
      ]
    },
    {
      "cell_type": "code",
      "execution_count": 27,
      "metadata": {
        "id": "9oXsYr_ilTKD"
      },
      "outputs": [
        {
          "data": {
            "text/plain": [
              "array([[0.01638645, 0.08647394, 0.85055109, 0.46753247],\n",
              "       [0.90997831, 0.01952278, 0.03687636, 0.17177914],\n",
              "       [0.2777471 , 0.18221977, 0.41413584, 0.31118881],\n",
              "       ...,\n",
              "       [0.01257862, 0.02695418, 0.90745732, 0.80225989],\n",
              "       [0.12275253, 0.11005208, 0.4402141 , 0.1503268 ],\n",
              "       [0.01310044, 0.64737991, 0.32969433, 0.65217391]])"
            ]
          },
          "execution_count": 27,
          "metadata": {},
          "output_type": "execute_result"
        }
      ],
      "source": [
        "chicago_dem_data"
      ]
    },
    {
      "cell_type": "code",
      "execution_count": 38,
      "metadata": {
        "id": "NYK4zOBDeDDV"
      },
      "outputs": [],
      "source": [
        "%%capture\n",
        "chicago_salary_mapper.visualize(chicago_salary_graph, path_html = \"chicago_salary_garcia.html\", \n",
        "                    title=\"Salary Data for Chicago\", color_values=chicago_salary_data[:,chicago_salary_df.columns.get_loc('200K_MORE_pct')], color_function_name='200K_MORE_pct',X = chicago_salary_data, X_names = salary_cols + [\"GARCIA_G15_pct\"])"
      ]
    },
    {
      "cell_type": "markdown",
      "metadata": {
        "id": "X6kYCOCAyxUw"
      },
      "source": [
        "We can also manually inspect the graph. \n",
        "\n",
        "Each cluster has a specific name, and I'll just print the first 10. "
      ]
    },
    {
      "cell_type": "code",
      "execution_count": 29,
      "metadata": {
        "id": "jckMrGgeO1C0"
      },
      "outputs": [
        {
          "data": {
            "text/plain": [
              "['cube1_cluster0',\n",
              " 'cube2_cluster0',\n",
              " 'cube2_cluster1',\n",
              " 'cube3_cluster0',\n",
              " 'cube3_cluster1',\n",
              " 'cube4_cluster0',\n",
              " 'cube5_cluster0',\n",
              " 'cube6_cluster0',\n",
              " 'cube7_cluster0',\n",
              " 'cube8_cluster0']"
            ]
          },
          "execution_count": 29,
          "metadata": {},
          "output_type": "execute_result"
        }
      ],
      "source": [
        "list(chicago_dem_graph[\"nodes\"].keys())[:10]"
      ]
    },
    {
      "cell_type": "markdown",
      "metadata": {
        "id": "swZB1Tm0P-uP"
      },
      "source": [
        "Once you've created the mapper object, you can get specific cluster information. \n",
        "\n",
        "The cluster details in the mapper html page shows the row number of each of the rows in the initial geodataframe that were included in the cluster. "
      ]
    },
    {
      "cell_type": "code",
      "execution_count": 30,
      "metadata": {
        "id": "Ar-PtvM4QJdB"
      },
      "outputs": [],
      "source": [
        "cluster_info = chicago_dem_mapper.data_from_cluster_id('cube33_cluster1', chicago_dem_graph, chicago_dem_data)"
      ]
    },
    {
      "cell_type": "code",
      "execution_count": 31,
      "metadata": {
        "id": "dtomnGk1RmCT"
      },
      "outputs": [
        {
          "data": {
            "text/plain": [
              "54"
            ]
          },
          "execution_count": 31,
          "metadata": {},
          "output_type": "execute_result"
        }
      ],
      "source": [
        "len(chicago_dem_graph['nodes']) #['cube33_cluster1']"
      ]
    },
    {
      "cell_type": "code",
      "execution_count": 32,
      "metadata": {
        "id": "BAjsSxvIQYV8"
      },
      "outputs": [],
      "source": [
        "cluster_df = pd.DataFrame(cluster_info, columns=chicago_dem_df.columns)"
      ]
    },
    {
      "cell_type": "markdown",
      "metadata": {
        "id": "brcfdsVazH1Y"
      },
      "source": [
        "We can use these indices to get the rows from the original dataframe that make up the clusters. "
      ]
    },
    {
      "cell_type": "code",
      "execution_count": 33,
      "metadata": {
        "id": "FdFlThXwP55y"
      },
      "outputs": [
        {
          "data": {
            "text/html": [
              "<div>\n",
              "<style scoped>\n",
              "    .dataframe tbody tr th:only-of-type {\n",
              "        vertical-align: middle;\n",
              "    }\n",
              "\n",
              "    .dataframe tbody tr th {\n",
              "        vertical-align: top;\n",
              "    }\n",
              "\n",
              "    .dataframe thead th {\n",
              "        text-align: right;\n",
              "    }\n",
              "</style>\n",
              "<table border=\"1\" class=\"dataframe\">\n",
              "  <thead>\n",
              "    <tr style=\"text-align: right;\">\n",
              "      <th></th>\n",
              "      <th>WVAP_pct</th>\n",
              "      <th>BVAP_pct</th>\n",
              "      <th>GARCIA_G15_pct</th>\n",
              "      <th>EMAN_G15_pct</th>\n",
              "    </tr>\n",
              "  </thead>\n",
              "  <tbody>\n",
              "    <tr>\n",
              "      <th>8</th>\n",
              "      <td>0.017781</td>\n",
              "      <td>0.953770</td>\n",
              "      <td>0.225806</td>\n",
              "      <td>0.648746</td>\n",
              "    </tr>\n",
              "    <tr>\n",
              "      <th>9</th>\n",
              "      <td>0.034988</td>\n",
              "      <td>0.558699</td>\n",
              "      <td>0.227545</td>\n",
              "      <td>0.383234</td>\n",
              "    </tr>\n",
              "    <tr>\n",
              "      <th>13</th>\n",
              "      <td>0.703172</td>\n",
              "      <td>0.105740</td>\n",
              "      <td>0.242647</td>\n",
              "      <td>0.389706</td>\n",
              "    </tr>\n",
              "    <tr>\n",
              "      <th>41</th>\n",
              "      <td>0.045833</td>\n",
              "      <td>0.744643</td>\n",
              "      <td>0.238532</td>\n",
              "      <td>0.623853</td>\n",
              "    </tr>\n",
              "    <tr>\n",
              "      <th>44</th>\n",
              "      <td>0.013830</td>\n",
              "      <td>0.690426</td>\n",
              "      <td>0.228571</td>\n",
              "      <td>0.400000</td>\n",
              "    </tr>\n",
              "    <tr>\n",
              "      <th>...</th>\n",
              "      <td>...</td>\n",
              "      <td>...</td>\n",
              "      <td>...</td>\n",
              "      <td>...</td>\n",
              "    </tr>\n",
              "    <tr>\n",
              "      <th>2032</th>\n",
              "      <td>0.866167</td>\n",
              "      <td>0.006424</td>\n",
              "      <td>0.235088</td>\n",
              "      <td>0.480702</td>\n",
              "    </tr>\n",
              "    <tr>\n",
              "      <th>2036</th>\n",
              "      <td>0.916667</td>\n",
              "      <td>0.017857</td>\n",
              "      <td>0.239544</td>\n",
              "      <td>0.467681</td>\n",
              "    </tr>\n",
              "    <tr>\n",
              "      <th>2050</th>\n",
              "      <td>0.639746</td>\n",
              "      <td>0.190136</td>\n",
              "      <td>0.237354</td>\n",
              "      <td>0.385214</td>\n",
              "    </tr>\n",
              "    <tr>\n",
              "      <th>2054</th>\n",
              "      <td>0.759194</td>\n",
              "      <td>0.086690</td>\n",
              "      <td>0.241667</td>\n",
              "      <td>0.412500</td>\n",
              "    </tr>\n",
              "    <tr>\n",
              "      <th>2061</th>\n",
              "      <td>0.583222</td>\n",
              "      <td>0.031636</td>\n",
              "      <td>0.228986</td>\n",
              "      <td>0.460870</td>\n",
              "    </tr>\n",
              "  </tbody>\n",
              "</table>\n",
              "<p>179 rows × 4 columns</p>\n",
              "</div>"
            ],
            "text/plain": [
              "      WVAP_pct  BVAP_pct  GARCIA_G15_pct  EMAN_G15_pct\n",
              "8     0.017781  0.953770        0.225806      0.648746\n",
              "9     0.034988  0.558699        0.227545      0.383234\n",
              "13    0.703172  0.105740        0.242647      0.389706\n",
              "41    0.045833  0.744643        0.238532      0.623853\n",
              "44    0.013830  0.690426        0.228571      0.400000\n",
              "...        ...       ...             ...           ...\n",
              "2032  0.866167  0.006424        0.235088      0.480702\n",
              "2036  0.916667  0.017857        0.239544      0.467681\n",
              "2050  0.639746  0.190136        0.237354      0.385214\n",
              "2054  0.759194  0.086690        0.241667      0.412500\n",
              "2061  0.583222  0.031636        0.228986      0.460870\n",
              "\n",
              "[179 rows x 4 columns]"
            ]
          },
          "execution_count": 33,
          "metadata": {},
          "output_type": "execute_result"
        }
      ],
      "source": [
        "chicago_mayoral[[\"WVAP_pct\", \"BVAP_pct\", \"GARCIA_G15_pct\", \"EMAN_G15_pct\"]][chicago_mayoral.index.isin(chicago_dem_graph['nodes']['cube8_cluster0'])]"
      ]
    },
    {
      "cell_type": "code",
      "execution_count": 34,
      "metadata": {
        "id": "NByI6O1ORiIz"
      },
      "outputs": [
        {
          "data": {
            "text/html": [
              "<div>\n",
              "<style scoped>\n",
              "    .dataframe tbody tr th:only-of-type {\n",
              "        vertical-align: middle;\n",
              "    }\n",
              "\n",
              "    .dataframe tbody tr th {\n",
              "        vertical-align: top;\n",
              "    }\n",
              "\n",
              "    .dataframe thead th {\n",
              "        text-align: right;\n",
              "    }\n",
              "</style>\n",
              "<table border=\"1\" class=\"dataframe\">\n",
              "  <thead>\n",
              "    <tr style=\"text-align: right;\">\n",
              "      <th></th>\n",
              "      <th>BVAP_pct</th>\n",
              "      <th>HVAP_pct</th>\n",
              "      <th>WVAP_pct</th>\n",
              "      <th>GARCIA_G15_pct</th>\n",
              "    </tr>\n",
              "  </thead>\n",
              "  <tbody>\n",
              "    <tr>\n",
              "      <th>0</th>\n",
              "      <td>0.010814</td>\n",
              "      <td>0.882186</td>\n",
              "      <td>0.095048</td>\n",
              "      <td>0.765125</td>\n",
              "    </tr>\n",
              "    <tr>\n",
              "      <th>1</th>\n",
              "      <td>0.057448</td>\n",
              "      <td>0.885613</td>\n",
              "      <td>0.042196</td>\n",
              "      <td>0.753623</td>\n",
              "    </tr>\n",
              "    <tr>\n",
              "      <th>2</th>\n",
              "      <td>0.024902</td>\n",
              "      <td>0.823722</td>\n",
              "      <td>0.127785</td>\n",
              "      <td>0.757576</td>\n",
              "    </tr>\n",
              "    <tr>\n",
              "      <th>3</th>\n",
              "      <td>0.030981</td>\n",
              "      <td>0.888124</td>\n",
              "      <td>0.070568</td>\n",
              "      <td>0.758197</td>\n",
              "    </tr>\n",
              "    <tr>\n",
              "      <th>4</th>\n",
              "      <td>0.323720</td>\n",
              "      <td>0.620764</td>\n",
              "      <td>0.033165</td>\n",
              "      <td>0.764151</td>\n",
              "    </tr>\n",
              "  </tbody>\n",
              "</table>\n",
              "</div>"
            ],
            "text/plain": [
              "   BVAP_pct  HVAP_pct  WVAP_pct  GARCIA_G15_pct\n",
              "0  0.010814  0.882186  0.095048        0.765125\n",
              "1  0.057448  0.885613  0.042196        0.753623\n",
              "2  0.024902  0.823722  0.127785        0.757576\n",
              "3  0.030981  0.888124  0.070568        0.758197\n",
              "4  0.323720  0.620764  0.033165        0.764151"
            ]
          },
          "execution_count": 34,
          "metadata": {},
          "output_type": "execute_result"
        }
      ],
      "source": [
        "cluster_df.head()"
      ]
    },
    {
      "cell_type": "markdown",
      "metadata": {
        "id": "dOV7SXADzfW3"
      },
      "source": [
        "I've created a little function here to plot the averages of a list of desired values within each cluster vs. another column of interest. \n",
        "\n",
        "i.e. plotting mean population of each demographic group in a cluster vs. the mean vote total within that cluster"
      ]
    },
    {
      "cell_type": "code",
      "execution_count": 35,
      "metadata": {
        "id": "jV8NDjwuezrh"
      },
      "outputs": [],
      "source": [
        "def graph_cluster_means(graph, columns, col_of_interest): \n",
        "  colors = [\"red\", \"coral\", \"bisque\", \"orange\", \"yellow\", \"goldenrod\", \"olivedrab\", \"springgreen\", \"steelblue\"]\n",
        "  votes = []\n",
        "  cluster_means = [[] for col in range(len(columns))]\n",
        "  fig, ax = plt.subplots(1,1, figsize=(7, 5))\n",
        "  for cluster in graph['nodes'].keys():\n",
        "    cluster_indices = graph['nodes'][cluster]\n",
        "    subset = chicago_mayoral[chicago_mayoral.index.isin(cluster_indices)]\n",
        "    votes.append(np.mean(subset[col_of_interest]))\n",
        "    for i, col in enumerate(columns):\n",
        "      cluster_means[i].append(np.mean(subset[col]))\n",
        "  for i, cluster in enumerate(cluster_means): \n",
        "    plt.scatter(cluster, votes, color=colors[i], label = columns[i])\n",
        "  plt.xlabel(\"Demographic share\")\n",
        "  plt.ylabel(f\"{col_of_interest}\")\n",
        "  plt.legend()"
      ]
    },
    {
      "cell_type": "code",
      "execution_count": 36,
      "metadata": {
        "id": "3R_41B7jRqXk"
      },
      "outputs": [
        {
          "data": {
            "image/png": "[encoded data removed]",
            "text/plain": [
              "<Figure size 504x360 with 1 Axes>"
            ]
          },
          "metadata": {
            "needs_background": "light"
          },
          "output_type": "display_data"
        }
      ],
      "source": [
        "graph_cluster_means(chicago_salary_graph, [\"HVAP_pct\", \"BVAP_pct\", \"WVAP_pct\"], \"GARCIA_G15_pct\")"
      ]
    },
    {
      "cell_type": "markdown",
      "metadata": {
        "id": "i9Xik8192e_q"
      },
      "source": [
        "Import the Chicago precinct shapefile:"
      ]
    },
    {
      "cell_type": "code",
      "execution_count": 40,
      "metadata": {
        "id": "0qEfUCvyR-dn"
      },
      "outputs": [
        {
          "ename": "DriverError",
          "evalue": "Unable to open ../data/PRECINCTS_2012.shx or ../data/PRECINCTS_2012.SHX. Set SHAPE_RESTORE_SHX config option to YES to restore or create it.",
          "output_type": "error",
          "traceback": [
            "\u001b[0;31m---------------------------------------------------------------------------\u001b[0m",
            "\u001b[0;31mCPLE_OpenFailedError\u001b[0m                      Traceback (most recent call last)",
            "\u001b[0;32mfiona/_shim.pyx\u001b[0m in \u001b[0;36mfiona._shim.gdal_open_vector\u001b[0;34m()\u001b[0m\n",
            "\u001b[0;32mfiona/_err.pyx\u001b[0m in \u001b[0;36mfiona._err.exc_wrap_pointer\u001b[0;34m()\u001b[0m\n",
            "\u001b[0;31mCPLE_OpenFailedError\u001b[0m: Unable to open ../data/PRECINCTS_2012.shx or ../data/PRECINCTS_2012.SHX. Set SHAPE_RESTORE_SHX config option to YES to restore or create it.",
            "\nDuring handling of the above exception, another exception occurred:\n",
            "\u001b[0;31mDriverError\u001b[0m                               Traceback (most recent call last)",
            "\u001b[0;32m/var/folders/53/psvx_ym12wg942h2sxtd91v80000gn/T/ipykernel_34728/1953996581.py\u001b[0m in \u001b[0;36m<module>\u001b[0;34m\u001b[0m\n\u001b[0;32m----> 1\u001b[0;31m \u001b[0mprecinct_geodf\u001b[0m \u001b[0;34m=\u001b[0m \u001b[0mgpd\u001b[0m\u001b[0;34m.\u001b[0m\u001b[0mread_file\u001b[0m\u001b[0;34m(\u001b[0m\u001b[0;34m\"../data/PRECINCTS_2012.shp\"\u001b[0m\u001b[0;34m)\u001b[0m\u001b[0;34m\u001b[0m\u001b[0;34m\u001b[0m\u001b[0m\n\u001b[0m",
            "\u001b[0;32m~/opt/anaconda3/lib/python3.9/site-packages/geopandas/io/file.py\u001b[0m in \u001b[0;36m_read_file\u001b[0;34m(filename, bbox, mask, rows, engine, **kwargs)\u001b[0m\n\u001b[1;32m    251\u001b[0m \u001b[0;34m\u001b[0m\u001b[0m\n\u001b[1;32m    252\u001b[0m     \u001b[0;32mif\u001b[0m \u001b[0mengine\u001b[0m \u001b[0;34m==\u001b[0m \u001b[0;34m\"fiona\"\u001b[0m\u001b[0;34m:\u001b[0m\u001b[0;34m\u001b[0m\u001b[0;34m\u001b[0m\u001b[0m\n\u001b[0;32m--> 253\u001b[0;31m         return _read_file_fiona(\n\u001b[0m\u001b[1;32m    254\u001b[0m             \u001b[0mpath_or_bytes\u001b[0m\u001b[0;34m,\u001b[0m \u001b[0mfrom_bytes\u001b[0m\u001b[0;34m,\u001b[0m \u001b[0mbbox\u001b[0m\u001b[0;34m=\u001b[0m\u001b[0mbbox\u001b[0m\u001b[0;34m,\u001b[0m \u001b[0mmask\u001b[0m\u001b[0;34m=\u001b[0m\u001b[0mmask\u001b[0m\u001b[0;34m,\u001b[0m \u001b[0mrows\u001b[0m\u001b[0;34m=\u001b[0m\u001b[0mrows\u001b[0m\u001b[0;34m,\u001b[0m \u001b[0;34m**\u001b[0m\u001b[0mkwargs\u001b[0m\u001b[0;34m\u001b[0m\u001b[0;34m\u001b[0m\u001b[0m\n\u001b[1;32m    255\u001b[0m         )\n",
            "\u001b[0;32m~/opt/anaconda3/lib/python3.9/site-packages/geopandas/io/file.py\u001b[0m in \u001b[0;36m_read_file_fiona\u001b[0;34m(path_or_bytes, from_bytes, bbox, mask, rows, **kwargs)\u001b[0m\n\u001b[1;32m    292\u001b[0m \u001b[0;34m\u001b[0m\u001b[0m\n\u001b[1;32m    293\u001b[0m     \u001b[0;32mwith\u001b[0m \u001b[0mfiona_env\u001b[0m\u001b[0;34m(\u001b[0m\u001b[0;34m)\u001b[0m\u001b[0;34m:\u001b[0m\u001b[0;34m\u001b[0m\u001b[0;34m\u001b[0m\u001b[0m\n\u001b[0;32m--> 294\u001b[0;31m         \u001b[0;32mwith\u001b[0m \u001b[0mreader\u001b[0m\u001b[0;34m(\u001b[0m\u001b[0mpath_or_bytes\u001b[0m\u001b[0;34m,\u001b[0m \u001b[0;34m**\u001b[0m\u001b[0mkwargs\u001b[0m\u001b[0;34m)\u001b[0m \u001b[0;32mas\u001b[0m \u001b[0mfeatures\u001b[0m\u001b[0;34m:\u001b[0m\u001b[0;34m\u001b[0m\u001b[0;34m\u001b[0m\u001b[0m\n\u001b[0m\u001b[1;32m    295\u001b[0m \u001b[0;34m\u001b[0m\u001b[0m\n\u001b[1;32m    296\u001b[0m             \u001b[0;31m# In a future Fiona release the crs attribute of features will\u001b[0m\u001b[0;34m\u001b[0m\u001b[0;34m\u001b[0m\u001b[0m\n",
            "\u001b[0;32m~/opt/anaconda3/lib/python3.9/site-packages/fiona/env.py\u001b[0m in \u001b[0;36mwrapper\u001b[0;34m(*args, **kwargs)\u001b[0m\n\u001b[1;32m    406\u001b[0m     \u001b[0;32mdef\u001b[0m \u001b[0mwrapper\u001b[0m\u001b[0;34m(\u001b[0m\u001b[0;34m*\u001b[0m\u001b[0margs\u001b[0m\u001b[0;34m,\u001b[0m \u001b[0;34m**\u001b[0m\u001b[0mkwargs\u001b[0m\u001b[0;34m)\u001b[0m\u001b[0;34m:\u001b[0m\u001b[0;34m\u001b[0m\u001b[0;34m\u001b[0m\u001b[0m\n\u001b[1;32m    407\u001b[0m         \u001b[0;32mif\u001b[0m \u001b[0mlocal\u001b[0m\u001b[0;34m.\u001b[0m\u001b[0m_env\u001b[0m\u001b[0;34m:\u001b[0m\u001b[0;34m\u001b[0m\u001b[0;34m\u001b[0m\u001b[0m\n\u001b[0;32m--> 408\u001b[0;31m             \u001b[0;32mreturn\u001b[0m \u001b[0mf\u001b[0m\u001b[0;34m(\u001b[0m\u001b[0;34m*\u001b[0m\u001b[0margs\u001b[0m\u001b[0;34m,\u001b[0m \u001b[0;34m**\u001b[0m\u001b[0mkwargs\u001b[0m\u001b[0;34m)\u001b[0m\u001b[0;34m\u001b[0m\u001b[0;34m\u001b[0m\u001b[0m\n\u001b[0m\u001b[1;32m    409\u001b[0m         \u001b[0;32melse\u001b[0m\u001b[0;34m:\u001b[0m\u001b[0;34m\u001b[0m\u001b[0;34m\u001b[0m\u001b[0m\n\u001b[1;32m    410\u001b[0m             \u001b[0;32mif\u001b[0m \u001b[0misinstance\u001b[0m\u001b[0;34m(\u001b[0m\u001b[0margs\u001b[0m\u001b[0;34m[\u001b[0m\u001b[0;36m0\u001b[0m\u001b[0;34m]\u001b[0m\u001b[0;34m,\u001b[0m \u001b[0mstr\u001b[0m\u001b[0;34m)\u001b[0m\u001b[0;34m:\u001b[0m\u001b[0;34m\u001b[0m\u001b[0;34m\u001b[0m\u001b[0m\n",
            "\u001b[0;32m~/opt/anaconda3/lib/python3.9/site-packages/fiona/__init__.py\u001b[0m in \u001b[0;36mopen\u001b[0;34m(fp, mode, driver, schema, crs, encoding, layer, vfs, enabled_drivers, crs_wkt, **kwargs)\u001b[0m\n\u001b[1;32m    262\u001b[0m \u001b[0;34m\u001b[0m\u001b[0m\n\u001b[1;32m    263\u001b[0m         \u001b[0;32mif\u001b[0m \u001b[0mmode\u001b[0m \u001b[0;32min\u001b[0m \u001b[0;34m(\u001b[0m\u001b[0;34m'a'\u001b[0m\u001b[0;34m,\u001b[0m \u001b[0;34m'r'\u001b[0m\u001b[0;34m)\u001b[0m\u001b[0;34m:\u001b[0m\u001b[0;34m\u001b[0m\u001b[0;34m\u001b[0m\u001b[0m\n\u001b[0;32m--> 264\u001b[0;31m             c = Collection(path, mode, driver=driver, encoding=encoding,\n\u001b[0m\u001b[1;32m    265\u001b[0m                            layer=layer, enabled_drivers=enabled_drivers, **kwargs)\n\u001b[1;32m    266\u001b[0m         \u001b[0;32melif\u001b[0m \u001b[0mmode\u001b[0m \u001b[0;34m==\u001b[0m \u001b[0;34m'w'\u001b[0m\u001b[0;34m:\u001b[0m\u001b[0;34m\u001b[0m\u001b[0;34m\u001b[0m\u001b[0m\n",
            "\u001b[0;32m~/opt/anaconda3/lib/python3.9/site-packages/fiona/collection.py\u001b[0m in \u001b[0;36m__init__\u001b[0;34m(self, path, mode, driver, schema, crs, encoding, layer, vsi, archive, enabled_drivers, crs_wkt, ignore_fields, ignore_geometry, **kwargs)\u001b[0m\n\u001b[1;32m    160\u001b[0m             \u001b[0;32mif\u001b[0m \u001b[0mself\u001b[0m\u001b[0;34m.\u001b[0m\u001b[0mmode\u001b[0m \u001b[0;34m==\u001b[0m \u001b[0;34m'r'\u001b[0m\u001b[0;34m:\u001b[0m\u001b[0;34m\u001b[0m\u001b[0;34m\u001b[0m\u001b[0m\n\u001b[1;32m    161\u001b[0m                 \u001b[0mself\u001b[0m\u001b[0;34m.\u001b[0m\u001b[0msession\u001b[0m \u001b[0;34m=\u001b[0m \u001b[0mSession\u001b[0m\u001b[0;34m(\u001b[0m\u001b[0;34m)\u001b[0m\u001b[0;34m\u001b[0m\u001b[0;34m\u001b[0m\u001b[0m\n\u001b[0;32m--> 162\u001b[0;31m                 \u001b[0mself\u001b[0m\u001b[0;34m.\u001b[0m\u001b[0msession\u001b[0m\u001b[0;34m.\u001b[0m\u001b[0mstart\u001b[0m\u001b[0;34m(\u001b[0m\u001b[0mself\u001b[0m\u001b[0;34m,\u001b[0m \u001b[0;34m**\u001b[0m\u001b[0mkwargs\u001b[0m\u001b[0;34m)\u001b[0m\u001b[0;34m\u001b[0m\u001b[0;34m\u001b[0m\u001b[0m\n\u001b[0m\u001b[1;32m    163\u001b[0m             \u001b[0;32melif\u001b[0m \u001b[0mself\u001b[0m\u001b[0;34m.\u001b[0m\u001b[0mmode\u001b[0m \u001b[0;32min\u001b[0m \u001b[0;34m(\u001b[0m\u001b[0;34m'a'\u001b[0m\u001b[0;34m,\u001b[0m \u001b[0;34m'w'\u001b[0m\u001b[0;34m)\u001b[0m\u001b[0;34m:\u001b[0m\u001b[0;34m\u001b[0m\u001b[0;34m\u001b[0m\u001b[0m\n\u001b[1;32m    164\u001b[0m                 \u001b[0mself\u001b[0m\u001b[0;34m.\u001b[0m\u001b[0msession\u001b[0m \u001b[0;34m=\u001b[0m \u001b[0mWritingSession\u001b[0m\u001b[0;34m(\u001b[0m\u001b[0;34m)\u001b[0m\u001b[0;34m\u001b[0m\u001b[0;34m\u001b[0m\u001b[0m\n",
            "\u001b[0;32mfiona/ogrext.pyx\u001b[0m in \u001b[0;36mfiona.ogrext.Session.start\u001b[0;34m()\u001b[0m\n",
            "\u001b[0;32mfiona/_shim.pyx\u001b[0m in \u001b[0;36mfiona._shim.gdal_open_vector\u001b[0;34m()\u001b[0m\n",
            "\u001b[0;31mDriverError\u001b[0m: Unable to open ../data/PRECINCTS_2012.shx or ../data/PRECINCTS_2012.SHX. Set SHAPE_RESTORE_SHX config option to YES to restore or create it."
          ]
        }
      ],
      "source": [
        "precinct_geodf = gpd.read_file(\"../data/precincts_shapefile/PRECINCTS_2012.shp\")"
      ]
    },
    {
      "cell_type": "code",
      "execution_count": null,
      "metadata": {
        "id": "8ykW1Vf2lisH"
      },
      "outputs": [],
      "source": [
        "chicago_mayoral[(chicago_mayoral[\"ward\"]== 15) & (chicago_mayoral[\"precinct\"]== 6)]\n",
        "precinct_geodf[(precinct_geodf[\"WARD\"]== 15) & (precinct_geodf[\"PRECINCT\"]== 6)]"
      ]
    },
    {
      "cell_type": "code",
      "execution_count": null,
      "metadata": {
        "id": "O58mUIMMODx9"
      },
      "outputs": [],
      "source": [
        "idxs = list()\n",
        "\n",
        "for node in chicago_dem_graph[\"nodes\"].values():\n",
        "  idxs = idxs + list(node)\n",
        "\n",
        "print(2069 - len(set(idxs)))"
      ]
    },
    {
      "cell_type": "markdown",
      "metadata": {
        "id": "SXGPNJrC2XwW"
      },
      "source": [
        "# Visualizing Mapper Clusters on a Map"
      ]
    },
    {
      "cell_type": "markdown",
      "metadata": {
        "id": "ekjYgxol-2ZP"
      },
      "source": [
        "The following function generates an interactive map using the folium library with layers corresponding to some set of precincts"
      ]
    },
    {
      "cell_type": "code",
      "execution_count": null,
      "metadata": {
        "id": "LokX582dvmz3"
      },
      "outputs": [],
      "source": [
        "### expects a dict of the form \"layer_name\": [...node_idxs...], ...\n",
        "def generate_layered_map(layer_dict, default_open):\n",
        "  map = folium.Map()\n",
        "\n",
        "  for layer_name, precinct_idxs in layer_dict.items():\n",
        "    precincts = chicago_mayoral[chicago_mayoral.index.isin(precinct_idxs)]\n",
        "    precinct_ids = precincts[\"full_text\"].apply(lambda n : str(n).rjust(5, \"0\"))\n",
        "\n",
        "    geodf_clusters = precinct_geodf[precinct_geodf[\"FULL_TEXT\"].isin(precinct_ids)]\n",
        "    map = geodf_clusters.explore(m = map, name=layer_name, show=default_open)\n",
        "\n",
        "  folium.LayerControl().add_to(map)\n",
        "  map.fit_bounds(map.get_bounds(), padding=(20, 20))\n",
        "\n",
        "  return map\n"
      ]
    },
    {
      "cell_type": "markdown",
      "metadata": {
        "id": "LGhRrQzP_KIV"
      },
      "source": [
        "Passing the list of nodes of the resulting graph from the mapper algorithm will produce a map where each layer corresponds to one node of the graph and contains all of the precincts in that cluster"
      ]
    },
    {
      "cell_type": "code",
      "execution_count": null,
      "metadata": {
        "id": "3QnC4Nf6_iMB"
      },
      "outputs": [],
      "source": [
        "generate_layered_map(chicago_dem_graph['nodes'], False)"
      ]
    },
    {
      "cell_type": "code",
      "execution_count": null,
      "metadata": {
        "id": "6vtqyCrGALIa"
      },
      "outputs": [],
      "source": []
    },
    {
      "cell_type": "markdown",
      "metadata": {
        "id": "pInYf7Ef5Wla"
      },
      "source": [
        "It's a pain to get much information from manually clicking through clusters, so we can use networkx to get more interesting layers out of the topological information contained in the graph, i.e. in the example below, the connected components of the graph"
      ]
    },
    {
      "cell_type": "code",
      "execution_count": null,
      "metadata": {
        "id": "LJbxB1TNwNgK"
      },
      "outputs": [],
      "source": [
        "conn_comp_layers = dict()\n",
        "comp_sizes = list()\n",
        "\n",
        "G = km.to_nx(chicago_dem_graph)\n",
        "\n",
        "for C in sorted(nx.connected_components(G), key=len, reverse=True):\n",
        "  subgraph = nx.subgraph(G, C)\n",
        "\n",
        "  comp_precincts = list()\n",
        "\n",
        "\n",
        "\n",
        "  for name, data in subgraph.nodes.items():\n",
        "    comp_precincts = comp_precincts + data['membership']\n",
        "  \n",
        "  comp_size = len(list(subgraph.nodes))\n",
        "  comp_sizes = comp_sizes + [comp_size]\n",
        "\n",
        "  count = comp_sizes.count(comp_size)\n",
        "\n",
        "  if count > 1:\n",
        "    layer_name = (\"%i cluster component (%i)\" %(comp_size, count-1))\n",
        "  else:\n",
        "    layer_name = (\"%i cluster component\" %(comp_size))\n",
        "\n",
        "\n",
        "  conn_comp_layers[layer_name] = comp_precincts\n",
        "\n",
        "generate_layered_map(conn_comp_layers, True)"
      ]
    },
    {
      "cell_type": "markdown",
      "metadata": {
        "id": "v0aOvm9MAgV7"
      },
      "source": [
        "To hopefully see more interesting geographic clustering, we can try to identify my topologically interesting subsets of vertices. The following code generates layers based on the basis of cycles for the mapper graph. Since the largest connected component of this graph is more or less a linear graph with small cycles and forks, it makes sense to consider the two \"halves\" of the loop. We will do this by treating the vertices of a cycle which are cut points of the larger graph as the \"branch\" and  \"merge\" points of the two paths through the cycle."
      ]
    },
    {
      "cell_type": "code",
      "execution_count": null,
      "metadata": {
        "id": "qoakRBJTCLmo"
      },
      "outputs": [],
      "source": [
        "cycle_layers = dict()\n",
        "cycles       = nx.cycle_basis(G)\n",
        "cut_points   = list(nx.articulation_points(G))\n",
        "\n",
        "for cycle in cycles:\n",
        "  cycle_graph = nx.subgraph(G, cycle)\n",
        "  join_verts = list(set(cut_points) & set(cycle_graph))\n",
        "\n",
        "  intersection_precincts = G.nodes[join_verts[0]][\"membership\"] + G.nodes[join_verts[1]][\"membership\"]\n",
        "  \n",
        "  paths = list(nx.all_simple_paths(cycle_graph, join_verts[0], join_verts[1]))\n",
        "  paths_as_precincts = list()\n",
        "\n",
        "  for path in paths:\n",
        "    path = list(set(path) - set(join_verts))\n",
        "    path_precincts = list()\n",
        "\n",
        "    path_n = 0\n",
        "\n",
        "    for node in path:\n",
        "      path_precincts += G.nodes[node][\"membership\"]\n",
        "      if node.split(\"_\")[1] == \"cluster1\": path_n = 1\n",
        "\n",
        "    paths_as_precincts.insert(path_n, path_precincts)\n",
        "\n",
        "  layer_name_prefix = join_verts[0].split(\"_\")[0] + \" - \" + join_verts[1].split(\"_\")[0] + \" cycle \"\n",
        "\n",
        "  for n, path in enumerate(paths_as_precincts):\n",
        "    layer = dict()\n",
        "    name = layer_name_prefix + \"path \" + str(n)\n",
        "\n",
        "    cycle_layers[name] = path\n",
        "\n",
        "  intersection_layer = layer_name_prefix + \"branch/merge points\"\n",
        "  cycle_layers[intersection_layer] = intersection_precincts\n",
        "\n",
        "generate_layered_map(cycle_layers, False)"
      ]
    },
    {
      "cell_type": "code",
      "execution_count": null,
      "metadata": {
        "id": "XFHFE7PPF3L-"
      },
      "outputs": [],
      "source": []
    }
  ],
  "metadata": {
    "colab": {
      "provenance": []
    },
    "kernelspec": {
      "display_name": "base",
      "language": "python",
      "name": "python3"
    },
    "language_info": {
      "codemirror_mode": {
        "name": "ipython",
        "version": 3
      },
      "file_extension": ".py",
      "mimetype": "text/x-python",
      "name": "python",
      "nbconvert_exporter": "python",
      "pygments_lexer": "ipython3",
      "version": "3.9.7"
    },
    "vscode": {
      "interpreter": {
        "hash": "78af20e5fa7559ca29892da6b90f4bb754dfd0e74f4f2886f742fddd644c83fd"
      }
    }
  },
  "nbformat": 4,
  "nbformat_minor": 0
}
